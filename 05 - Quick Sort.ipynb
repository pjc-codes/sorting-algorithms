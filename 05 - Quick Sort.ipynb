{
 "cells": [
  {
   "cell_type": "markdown",
   "metadata": {},
   "source": [
    "## Quick Sort \n",
    "\n",
    "This is another sorting algorithm which implements divide-and-conquer principle - selects a pivot element, partitions the array and does the sorting recursively.\n",
    "\n",
    "The key idea here is that an element is in its sorted position (in ascending order) if:\n",
    "1. All elements to its left are **lesser** than the element. \n",
    "2. All elements to its right are **larger** than the element. \n",
    "\n",
    "Note that the other elements may or may not be properly sorted. However, we can be sure that the element under consideration is for sure in its right position.\n",
    "\n",
    "In case of sorting in descending order, the conditions change to:\n",
    "1. All elements to its left are **larger** than the element. \n",
    "2. All elements to its right are **lesser** than the element. \n",
    "\n",
    "For an array of `n` elements, we have best and average time complexity of `O(n log n)` . But in worst case scenario, it is `O(n^2)`. Its space complexity is `O(n)` in the worst case, but best case  is `O(log n)`.\n",
    "\n",
    "#### <ins> **Algorithm**: </ins>\n",
    "\n",
    "1. We implement merge sort recursively. \n",
    "2. We start by choosing a pivot element. This can be random or chosen always to be the first or last element. Or, we can follow the median of three method, which is to inspect the first, middle and last elements, arrange them in order and then choose the new middle element as the pivot. \n",
    "3. The array is split accordingly and we move every element that is less than the pivot element in the left subarray, and every element that is greater than the pivot element in the right subarray. \n",
    "   \n",
    "   (Its easier to see this in action in the code)\n",
    "4. We recursively call our quick sort function on each of these sub arrays. This recursion goes on till the sub-array length becomes `1`.\n"
   ]
  },
  {
   "cell_type": "code",
   "execution_count": 14,
   "metadata": {},
   "outputs": [],
   "source": [
    "class QuickSorter():\n",
    "    @staticmethod\n",
    "    def quick_sort(arr: list[int], left: int, right: int, reverse=False):\n",
    "        if not reverse:\n",
    "\n",
    "            if left < right:\n",
    "                partition_pos = QuickSorter.partition(arr, left, right)\n",
    "\n",
    "                QuickSorter.quick_sort(arr, left, partition_pos-1)\n",
    "                QuickSorter.quick_sort(arr, partition_pos+1, right)\n",
    "        else:\n",
    "            if left < right:\n",
    "                partition_pos = QuickSorter.partition_rev(arr, left, right)\n",
    "\n",
    "                QuickSorter.quick_sort(arr, left, partition_pos-1, True)\n",
    "                QuickSorter.quick_sort(arr, partition_pos+1, right, True)\n",
    "\n",
    "    @staticmethod\n",
    "    def partition(arr: list[int], left: int, right: int):\n",
    "        i = left  # first index\n",
    "        j = right-1  # second last index\n",
    "        pivot = arr[right]  # last element as pivot\n",
    "\n",
    "        while i < j:\n",
    "            while i < right and arr[i] < pivot:\n",
    "                i += 1\n",
    "            while j > left and arr[j] >= pivot:\n",
    "                j -= 1\n",
    "            if i < j:\n",
    "                arr[i], arr[j] = arr[j], arr[i]\n",
    "\n",
    "        if arr[i] > pivot:\n",
    "            arr[i], arr[right] = arr[right], arr[i]\n",
    "\n",
    "        return i\n",
    "\n",
    "    @staticmethod\n",
    "    def partition_rev(arr: list[int], left: int, right: int):\n",
    "        i = left\n",
    "        j = right-1\n",
    "        pivot = arr[right]\n",
    "\n",
    "        while i < j:\n",
    "            while i < right and arr[i] >= pivot:\n",
    "                i += 1\n",
    "            while j > left and arr[j] < pivot:\n",
    "                j -= 1\n",
    "            if i < j:\n",
    "                arr[i], arr[j] = arr[j], arr[i]\n",
    "\n",
    "        if arr[i] < pivot:\n",
    "            arr[i], arr[right] = arr[right], arr[i]\n",
    "\n",
    "        return i"
   ]
  },
  {
   "cell_type": "code",
   "execution_count": 15,
   "metadata": {},
   "outputs": [
    {
     "name": "stdout",
     "output_type": "stream",
     "text": [
      "[-11, -1, 1, 4, 5, 5, 7, 13, 51]\n"
     ]
    }
   ],
   "source": [
    "test = [13, 4, 5, 7, 1, -11, 51, 5, -1]\n",
    "QuickSorter.quick_sort(test, 0, len(test)-1)\n",
    "print(test)"
   ]
  },
  {
   "cell_type": "code",
   "execution_count": 16,
   "metadata": {},
   "outputs": [
    {
     "name": "stdout",
     "output_type": "stream",
     "text": [
      "[51, 13, 7, 5, 5, 4, 1, -1, -11]\n"
     ]
    }
   ],
   "source": [
    "test = [13, 4, 5, 7, 1, -11, 51, 5, -1]\n",
    "QuickSorter.quick_sort(test, 0, len(test)-1, reverse=True)\n",
    "print(test)"
   ]
  },
  {
   "cell_type": "code",
   "execution_count": null,
   "metadata": {},
   "outputs": [],
   "source": []
  }
 ],
 "metadata": {
  "kernelspec": {
   "display_name": "Python 3",
   "language": "python",
   "name": "python3"
  },
  "language_info": {
   "codemirror_mode": {
    "name": "ipython",
    "version": 3
   },
   "file_extension": ".py",
   "mimetype": "text/x-python",
   "name": "python",
   "nbconvert_exporter": "python",
   "pygments_lexer": "ipython3",
   "version": "3.12.4"
  }
 },
 "nbformat": 4,
 "nbformat_minor": 2
}
