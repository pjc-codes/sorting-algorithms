{
 "cells": [
  {
   "cell_type": "markdown",
   "metadata": {},
   "source": [
    "## Merge Sort \n",
    "\n",
    "This is a divide-and-conquer algorithm that divides the list into halves, sorts them, and merges them.\n",
    "\n",
    "For an array of `n` elements, we have `O(n log n)` time complexity. This is the most optimum complexity achievable for comparison based sorting algorithms.\n",
    "\n",
    "#### <ins> **Algorithm**: </ins>\n",
    "\n",
    "1. We implement merge sort recursively. We start by splitting the array in half.\n",
    "2. We call our merge sort function on each of these recursively to sort them.\n",
    "3. Then we merge the sorted halves into one array. This is done by comparing the left most elements of the split arrays that need to be joined. If there are no more elements left in one side, then the other side can be added as such."
   ]
  },
  {
   "cell_type": "code",
   "execution_count": 12,
   "metadata": {},
   "outputs": [],
   "source": [
    "def merge_sort(arr: list[int], reverse=False):\n",
    "    \"\"\"Sorts the passed list in-place using merge sort.\n",
    "\n",
    "    Args:\n",
    "        arr (list[int]): list to be sorted.\n",
    "        reverse (bool, optional): Whether the sorting is in reverse ie descending. Defaults to False.\n",
    "    \"\"\"\n",
    "    if len(arr) > 1:\n",
    "        if not reverse:\n",
    "            # splitting the array\n",
    "\n",
    "            left_array = arr[:len(arr)//2]\n",
    "            right_array = arr[len(arr)//2:]\n",
    "\n",
    "            # recursion\n",
    "\n",
    "            merge_sort(left_array)\n",
    "            merge_sort(right_array)\n",
    "\n",
    "            # merging\n",
    "            l, r, m = 0, 0, 0  # indices of the left, right and merged arrays respectively\n",
    "\n",
    "            while l < len(left_array) and r < len(right_array):\n",
    "                if left_array[l] <= right_array[r]:\n",
    "                    arr[m] = left_array[l]\n",
    "                    l += 1\n",
    "                elif right_array[r] < left_array[l]:\n",
    "                    arr[m] = right_array[r]\n",
    "                    r += 1\n",
    "                m += 1\n",
    "\n",
    "            while l < len(left_array):\n",
    "                arr[m] = left_array[l]\n",
    "                l += 1\n",
    "                m += 1\n",
    "\n",
    "            while r < len(right_array):\n",
    "                arr[m] = right_array[r]\n",
    "                r += 1\n",
    "                m += 1\n",
    "\n",
    "        else:\n",
    "\n",
    "            left_array = arr[:len(arr)//2]\n",
    "            right_array = arr[len(arr)//2:]\n",
    "\n",
    "            merge_sort(left_array)\n",
    "            merge_sort(right_array)\n",
    "\n",
    "            l, r, m = 0, 0, 0  # indices of the left, right and merged arrays respectively\n",
    "\n",
    "            while l < len(left_array) and r < len(right_array):\n",
    "                if left_array[l] >= right_array[r]:\n",
    "                    arr[m] = left_array[l]\n",
    "                    l += 1\n",
    "                elif right_array[r] > left_array[l]:\n",
    "                    arr[m] = right_array[r]\n",
    "                    r += 1\n",
    "                m += 1\n",
    "\n",
    "            while l < len(left_array):\n",
    "                arr[m] = left_array[l]\n",
    "                l += 1\n",
    "                m += 1\n",
    "\n",
    "            while r < len(right_array):\n",
    "                arr[m] = right_array[r]\n",
    "                r += 1\n",
    "                m += 1"
   ]
  },
  {
   "cell_type": "code",
   "execution_count": 14,
   "metadata": {},
   "outputs": [
    {
     "data": {
      "text/plain": [
       "[6, 12, 26, 99, 1, 5, 6, 56, 111]"
      ]
     },
     "execution_count": 14,
     "metadata": {},
     "output_type": "execute_result"
    }
   ],
   "source": [
    "arr = [12, 26, 6, 99, 111, 1, 56, 5, 6]\n",
    "merge_sort(arr, reverse=True)\n",
    "arr"
   ]
  },
  {
   "cell_type": "code",
   "execution_count": null,
   "metadata": {},
   "outputs": [],
   "source": []
  }
 ],
 "metadata": {
  "kernelspec": {
   "display_name": "Python 3",
   "language": "python",
   "name": "python3"
  },
  "language_info": {
   "codemirror_mode": {
    "name": "ipython",
    "version": 3
   },
   "file_extension": ".py",
   "mimetype": "text/x-python",
   "name": "python",
   "nbconvert_exporter": "python",
   "pygments_lexer": "ipython3",
   "version": "3.12.4"
  }
 },
 "nbformat": 4,
 "nbformat_minor": 2
}
