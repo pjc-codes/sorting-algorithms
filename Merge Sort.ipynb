{
 "cells": [
  {
   "cell_type": "markdown",
   "metadata": {},
   "source": [
    "## Merge Sort \n",
    "\n",
    "This is a divide-and-conquer algorithm that divides the list recursively into halves, sorts them, and then merges them back.\n",
    "\n",
    "For an array of `n` elements, we have `O(n log n)` time complexity. This is the most optimum time complexity achievable for comparison based sorting algorithms. However, its space complexity is `O(n)` as we make sub-arrays and dont do the sorting in-place as in the cases of bubble sort, insertion sort or selection sort whose space complexity is `O(1)`.\n",
    "\n",
    "#### <ins> **Algorithm**: </ins>\n",
    "\n",
    "1. We implement merge sort recursively. \n",
    "2. We start by splitting the array in half.\n",
    "3. We call our merge sort function on each of these recursively to sort them.\n",
    "4. To merge the sorted halves into one array, we define another method (to make the code cleaner). Merging is done by comparing the left most elements of the split arrays that need to be joined. If there are no more elements left in one side, then the other side can be added as such."
   ]
  },
  {
   "cell_type": "code",
   "execution_count": 25,
   "metadata": {},
   "outputs": [],
   "source": [
    "class MergeSorter():\n",
    "\n",
    "    @staticmethod\n",
    "    def merge_sort(arr: list[int], reverse=False):\n",
    "        \"\"\"Sorts the passed list in-place using merge sort.\n",
    "\n",
    "        Args:\n",
    "            arr (list[int]): list to be sorted.\n",
    "            reverse (bool, optional): Whether the sorting is in reverse ie descending. Defaults to False.\n",
    "        \"\"\"\n",
    "        if len(arr) > 1:\n",
    "            if not reverse:\n",
    "                # splitting the array\n",
    "\n",
    "                left_array = arr[:len(arr)//2]\n",
    "                right_array = arr[len(arr)//2:]\n",
    "\n",
    "                # recursion\n",
    "\n",
    "                MergeSorter.merge_sort(left_array)\n",
    "                MergeSorter.merge_sort(right_array)\n",
    "\n",
    "                # merging\n",
    "                MergeSorter.merge_ascend(left_array, right_array, arr)\n",
    "\n",
    "            else:  # for sorting in descending order\n",
    "\n",
    "                left_array = arr[:len(arr)//2]\n",
    "                right_array = arr[len(arr)//2:]\n",
    "\n",
    "                MergeSorter.merge_sort(left_array, reverse=True)\n",
    "                MergeSorter.merge_sort(right_array, reverse=True)\n",
    "\n",
    "                MergeSorter.merge_descend(left_array, right_array, arr)\n",
    "\n",
    "    @staticmethod\n",
    "    def merge_ascend(left_array, right_array, arr):\n",
    "        l, r, m = 0, 0, 0  # indices of the left, right and merged arrays respectively\n",
    "\n",
    "        while l < len(left_array) and r < len(right_array):\n",
    "            if left_array[l] < right_array[r]:\n",
    "                arr[m] = left_array[l]\n",
    "                l += 1\n",
    "            else:\n",
    "                arr[m] = right_array[r]\n",
    "                r += 1\n",
    "            m += 1\n",
    "\n",
    "        while l < len(left_array):\n",
    "            arr[m] = left_array[l]\n",
    "            l += 1\n",
    "            m += 1\n",
    "\n",
    "        while r < len(right_array):\n",
    "            arr[m] = right_array[r]\n",
    "            r += 1\n",
    "            m += 1\n",
    "\n",
    "    @staticmethod\n",
    "    def merge_descend(left_array, right_array, arr):\n",
    "        l, r, m = 0, 0, 0  # indices of the left, right and merged arrays respectively\n",
    "\n",
    "        while l < len(left_array) and r < len(right_array):\n",
    "            if left_array[l] > right_array[r]:\n",
    "                arr[m] = left_array[l]\n",
    "                l += 1\n",
    "            else:\n",
    "                arr[m] = right_array[r]\n",
    "                r += 1\n",
    "            m += 1\n",
    "\n",
    "        while l < len(left_array):\n",
    "            arr[m] = left_array[l]\n",
    "            l += 1\n",
    "            m += 1\n",
    "\n",
    "        while r < len(right_array):\n",
    "            arr[m] = right_array[r]\n",
    "            r += 1\n",
    "            m += 1"
   ]
  },
  {
   "cell_type": "code",
   "execution_count": 26,
   "metadata": {},
   "outputs": [
    {
     "data": {
      "text/plain": [
       "[111, 99, 56, 26, 12, 12, 6, 6, 6, 5, 1, -5, -13]"
      ]
     },
     "execution_count": 26,
     "metadata": {},
     "output_type": "execute_result"
    }
   ],
   "source": [
    "arr = [12, -13, 26, 12, 6, 99, 111, 6, 1, 56, 5, 6, -5]\n",
    "MergeSorter.merge_sort(arr, reverse=True)\n",
    "arr"
   ]
  },
  {
   "cell_type": "code",
   "execution_count": 28,
   "metadata": {},
   "outputs": [
    {
     "data": {
      "text/plain": [
       "[-13, -5, 1, 5, 6, 6, 6, 12, 12, 26, 56, 99, 111]"
      ]
     },
     "execution_count": 28,
     "metadata": {},
     "output_type": "execute_result"
    }
   ],
   "source": [
    "arr = [12, -13, 26, 12, 6, 99, 111, 6, 1, 56, 5, 6, -5]\n",
    "MergeSorter.merge_sort(arr)\n",
    "arr"
   ]
  },
  {
   "cell_type": "code",
   "execution_count": null,
   "metadata": {},
   "outputs": [],
   "source": []
  }
 ],
 "metadata": {
  "kernelspec": {
   "display_name": "Python 3",
   "language": "python",
   "name": "python3"
  },
  "language_info": {
   "codemirror_mode": {
    "name": "ipython",
    "version": 3
   },
   "file_extension": ".py",
   "mimetype": "text/x-python",
   "name": "python",
   "nbconvert_exporter": "python",
   "pygments_lexer": "ipython3",
   "version": "3.12.4"
  }
 },
 "nbformat": 4,
 "nbformat_minor": 2
}
