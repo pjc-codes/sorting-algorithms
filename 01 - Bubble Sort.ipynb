{
 "cells": [
  {
   "cell_type": "markdown",
   "metadata": {},
   "source": [
    "## Bubble Sort \n",
    "\n",
    "This is a sorting algorithm wherein during each pass through the array, we compare values at adjacent indices and swap them in case they are out of order. At the end of each iteration, the highest value (or the lowest, in case of descending sort), will reach the end of the array.\n",
    "\n",
    "For an array of `n` elements, we have `O(n^2)` time complexity. The space complexity is `O(1)`\n",
    "\n",
    "#### <ins> **Algorithm**: </ins>\n",
    "\n",
    "1. We need a nested loop structure for implementing bubble sort. Loop 1 (`for` loop) runs from range `i = 0` to `n`, where `n` is the number of elements in the array.\n",
    "2. Loop 2 (`for` loop nested within loop 1) runs from range `j=0` to `n-i-1`. This is because after each iteration, the end of the array gets sorted.\n",
    "3. Within loop 2, we do the comparison operation between the `j-`th and `(j+1)-`th items and swap them if necessary.\n",
    "4. Once loop 2 ends with the next minimum identified, then we swap the values at the current `i` and the index of the next minimum i.e. `k`. \n",
    "5. We will have the sorted array at the end of execution of loop 1."
   ]
  },
  {
   "cell_type": "code",
   "execution_count": 6,
   "metadata": {},
   "outputs": [],
   "source": [
    "def bubble_sort(arr: list[int], reverse=False):\n",
    "    \"\"\"Sorts the passed list in-place using bubble sort.\n",
    "\n",
    "    Args:\n",
    "        arr (list[int]): list to be sorted.\n",
    "        reverse (bool, optional): Whether the sorting is in reverse ie descending. Defaults to False.\n",
    "    \"\"\"\n",
    "    if not reverse:\n",
    "        for i in range(len(arr)):\n",
    "            for j in range(len(arr)-i-1):\n",
    "                if arr[j] > arr[j+1]:\n",
    "                    arr[j], arr[j+1] = arr[j+1], arr[j]\n",
    "    else:\n",
    "        for i in range(len(arr)):\n",
    "            for j in range(len(arr)-i-1):\n",
    "                if arr[j] < arr[j+1]:\n",
    "                    arr[j], arr[j+1] = arr[j+1], arr[j]"
   ]
  },
  {
   "cell_type": "code",
   "execution_count": 8,
   "metadata": {},
   "outputs": [
    {
     "data": {
      "text/plain": [
       "[1000, 220, 100, 90, 80, 77, 60, 50, 40]"
      ]
     },
     "execution_count": 8,
     "metadata": {},
     "output_type": "execute_result"
    }
   ],
   "source": [
    "test = [220, 1000, 50, 40, 60, 77, 80, 100, 90]\n",
    "\n",
    "bubble_sort(test, reverse=True)\n",
    "test"
   ]
  },
  {
   "cell_type": "code",
   "execution_count": null,
   "metadata": {},
   "outputs": [],
   "source": []
  }
 ],
 "metadata": {
  "kernelspec": {
   "display_name": "Python 3",
   "language": "python",
   "name": "python3"
  },
  "language_info": {
   "codemirror_mode": {
    "name": "ipython",
    "version": 3
   },
   "file_extension": ".py",
   "mimetype": "text/x-python",
   "name": "python",
   "nbconvert_exporter": "python",
   "pygments_lexer": "ipython3",
   "version": "3.12.4"
  }
 },
 "nbformat": 4,
 "nbformat_minor": 2
}
