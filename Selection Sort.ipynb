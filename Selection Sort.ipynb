{
 "cells": [
  {
   "cell_type": "markdown",
   "metadata": {},
   "source": [
    "## Selection Sort \n",
    "\n",
    "This is a sorting algorithm wherein during each pass through the array, we select the next minimum value (in case of ascending sort, else next maximum) and move it to the right place (i.e. index).\n",
    "\n",
    "For an array of `n` elements, we have `O(n^2)` time complexity. The space complexity is `O(1)`\n",
    "\n",
    "#### <ins> **Algorithm**: </ins>\n",
    "\n",
    "1. We need a nested loop structure for selection sort. Loop 1 runs from `i = 0` to `n`, where `n` is the number of elements in the array.\n",
    "2. Loop 2 (which is nested within loop 1) runs from `j=i` to `n`.\n",
    "3. Within loop 2, we do the comparison operations to find the next minimum value and its index (say, `k`).\n",
    "4. Once loop 2 ends with the next minimum identified, then we swap the values at the current `i` and the index of the next minimum i.e. `k`. \n",
    "5. We will have the sorted array at the end of execution of loop 1."
   ]
  },
  {
   "cell_type": "code",
   "execution_count": 22,
   "metadata": {},
   "outputs": [],
   "source": [
    "def selection_sort(arr: list[int], reverse: bool = False) -> None:\n",
    "    \"\"\"This function sorts the given list using selection sort algorithm.\n",
    "\n",
    "    Args:\n",
    "        arr (list[int]): list to be sorted.\n",
    "        reverse (bool, optional): Whether the sorting is in reverse ie descending. Defaults to False.\n",
    "    \"\"\"\n",
    "\n",
    "    if not reverse:\n",
    "        for i in range(len(arr)):\n",
    "            min_val, min_index = arr[i], i\n",
    "            for j in range(i, len(arr)):\n",
    "                if arr[j] < min_val:\n",
    "                    min_val, min_index = arr[j], j\n",
    "            if min_index != i:\n",
    "                arr[i], arr[min_index] = arr[min_index], arr[i]\n",
    "    else:\n",
    "        for i in range(len(arr)):\n",
    "            max_val, max_index = arr[i], i\n",
    "            for j in range(i, len(arr)):\n",
    "                if arr[j] > max_val:\n",
    "                    max_val, max_index = arr[j], j\n",
    "            if max_index != i:\n",
    "                arr[i], arr[max_index] = arr[max_index], arr[i]"
   ]
  },
  {
   "cell_type": "code",
   "execution_count": 23,
   "metadata": {},
   "outputs": [
    {
     "data": {
      "text/plain": [
       "[200, 100, 100, 90, 80, 70, 60, 50, 40]"
      ]
     },
     "execution_count": 23,
     "metadata": {},
     "output_type": "execute_result"
    }
   ],
   "source": [
    "test = [200, 100, 50, 40, 60, 70, 80, 100, 90]\n",
    "\n",
    "selection_sort(test, reverse=True)\n",
    "test"
   ]
  },
  {
   "cell_type": "code",
   "execution_count": null,
   "metadata": {},
   "outputs": [],
   "source": []
  }
 ],
 "metadata": {
  "kernelspec": {
   "display_name": "Python 3",
   "language": "python",
   "name": "python3"
  },
  "language_info": {
   "codemirror_mode": {
    "name": "ipython",
    "version": 3
   },
   "file_extension": ".py",
   "mimetype": "text/x-python",
   "name": "python",
   "nbconvert_exporter": "python",
   "pygments_lexer": "ipython3",
   "version": "3.12.4"
  }
 },
 "nbformat": 4,
 "nbformat_minor": 2
}
