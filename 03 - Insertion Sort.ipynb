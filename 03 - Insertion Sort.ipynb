{
 "cells": [
  {
   "cell_type": "markdown",
   "metadata": {},
   "source": [
    "## Insertion Sort \n",
    "\n",
    "This is a sorting algorithm wherein each element is compared to the elements to its right and then inserted at the correct position on the left. Thus, with each iteration, we get an array that is sorted on the left and unsorted on the right.\n",
    "\n",
    "For an array of `n` elements, we have `O(n^2)` time complexity. The space complexity is `O(1)`.\n",
    "\n",
    "#### <ins> **Algorithm**: </ins>\n",
    "\n",
    "1. We need a nested loop structure for implementing insertion sort. The first element at index `0` is assumed to be in the right position. Therefore, loop 1 (`for` loop) runs from range `i = 1` to `n`, where `n` is the number of elements in the array.\n",
    "2. Initialise `j=i`\n",
    "3. Loop 2 (`while` loop nested within loop 1) runs while `j>0` and while the element at the `(j-1)`th index is greater/lesser (ascending/descending sort) than the value at `j`th index.\n",
    "4. Within loop 2, we do the swap operation between the `j-`th and `(j+1)-`th items and also update `j->j-1`\n",
    "5. We will have the sorted array at the end of execution of loop 1."
   ]
  },
  {
   "cell_type": "code",
   "execution_count": 2,
   "metadata": {},
   "outputs": [],
   "source": [
    "def insertion_sort(arr: list[int], reverse=False):\n",
    "    \"\"\"Sorts the passed list in-place using bubble sort.\n",
    "\n",
    "    Args:\n",
    "        arr (list[int]): list to be sorted.\n",
    "        reverse (bool, optional): Whether the sorting is in reverse ie descending. Defaults to False.\n",
    "    \"\"\"\n",
    "    if not reverse:\n",
    "        for i in range(1, len(arr)):\n",
    "            j = i\n",
    "            while j > 0 and arr[j-1] > arr[j]:\n",
    "                arr[j-1], arr[j] = arr[j], arr[j-1]\n",
    "                j -= 1\n",
    "    else:\n",
    "        for i in range(1, len(arr)):\n",
    "            j = i\n",
    "            while j > 0 and arr[j-1] < arr[j]:\n",
    "                arr[j-1], arr[j] = arr[j], arr[j-1]\n",
    "                j -= 1"
   ]
  },
  {
   "cell_type": "code",
   "execution_count": 4,
   "metadata": {},
   "outputs": [
    {
     "data": {
      "text/plain": [
       "[1000, 220, 100, 90, 80, 77, 60, 50, 40]"
      ]
     },
     "execution_count": 4,
     "metadata": {},
     "output_type": "execute_result"
    }
   ],
   "source": [
    "test = [220, 1000, 50, 40, 60, 77, 80, 100, 90]\n",
    "\n",
    "insertion_sort(test, reverse=True)\n",
    "test"
   ]
  },
  {
   "cell_type": "code",
   "execution_count": null,
   "metadata": {},
   "outputs": [],
   "source": []
  }
 ],
 "metadata": {
  "kernelspec": {
   "display_name": "Python 3",
   "language": "python",
   "name": "python3"
  },
  "language_info": {
   "codemirror_mode": {
    "name": "ipython",
    "version": 3
   },
   "file_extension": ".py",
   "mimetype": "text/x-python",
   "name": "python",
   "nbconvert_exporter": "python",
   "pygments_lexer": "ipython3",
   "version": "3.12.4"
  }
 },
 "nbformat": 4,
 "nbformat_minor": 2
}
